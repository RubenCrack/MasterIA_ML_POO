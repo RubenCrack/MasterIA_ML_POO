{
  "nbformat": 4,
  "nbformat_minor": 0,
  "metadata": {
    "colab": {
      "name": "Clase1.ipynb",
      "provenance": [],
      "authorship_tag": "ABX9TyOS6ittgcndbHrcrI3+v5t0",
      "include_colab_link": true
    },
    "kernelspec": {
      "name": "python3",
      "display_name": "Python 3"
    }
  },
  "cells": [
    {
      "cell_type": "markdown",
      "metadata": {
        "id": "view-in-github",
        "colab_type": "text"
      },
      "source": [
        "<a href=\"https://colab.research.google.com/github/RubenCrack/MasterIA_ML_POO/blob/main/Clase1a.ipynb\" target=\"_parent\"><img src=\"https://colab.research.google.com/assets/colab-badge.svg\" alt=\"Open In Colab\"/></a>"
      ]
    },
    {
      "cell_type": "code",
      "metadata": {
        "id": "I_UKQ8zmHgaH"
      },
      "source": [
        "class ClasePrueba:\n",
        "  pass"
      ],
      "execution_count": 1,
      "outputs": []
    },
    {
      "cell_type": "code",
      "metadata": {
        "id": "ONvIpGBcQrHj"
      },
      "source": [
        "class Apple:\n",
        "  def __init__(self, color, peso, tipo):\n",
        "    self.color = color\n",
        "    self.peso = peso\n",
        "    self.tipo = tipo"
      ],
      "execution_count": 2,
      "outputs": []
    },
    {
      "cell_type": "code",
      "metadata": {
        "id": "BGeC3rpbRPHd"
      },
      "source": [
        "#Manzana_1 = Apple(color='black',peso=100, tipo=1)\n",
        "#Manzana_2 = Apple(color='white',peso=200, tipo=2)\n",
        "Manzana_1 = Apple('black',100, 1)\n",
        "Manzana_2 = Apple('white',200, 2)"
      ],
      "execution_count": 12,
      "outputs": []
    },
    {
      "cell_type": "code",
      "metadata": {
        "id": "wI3mwfEaR_dR",
        "outputId": "c54aeb4c-a63f-4ba5-a93c-d03da33a953d",
        "colab": {
          "base_uri": "https://localhost:8080/",
          "height": 35
        }
      },
      "source": [
        "Manzana_1.color"
      ],
      "execution_count": 13,
      "outputs": [
        {
          "output_type": "execute_result",
          "data": {
            "application/vnd.google.colaboratory.intrinsic+json": {
              "type": "string"
            },
            "text/plain": [
              "'black'"
            ]
          },
          "metadata": {
            "tags": []
          },
          "execution_count": 13
        }
      ]
    },
    {
      "cell_type": "code",
      "metadata": {
        "id": "MXom1gtaSj9y",
        "outputId": "916434f7-8660-48b5-ec0e-5bdf8968131e",
        "colab": {
          "base_uri": "https://localhost:8080/",
          "height": 35
        }
      },
      "source": [
        "Manzana_2.color"
      ],
      "execution_count": 14,
      "outputs": [
        {
          "output_type": "execute_result",
          "data": {
            "application/vnd.google.colaboratory.intrinsic+json": {
              "type": "string"
            },
            "text/plain": [
              "'white'"
            ]
          },
          "metadata": {
            "tags": []
          },
          "execution_count": 14
        }
      ]
    },
    {
      "cell_type": "code",
      "metadata": {
        "id": "RYhJBepASDqz",
        "outputId": "2fcd0b9e-4e41-4188-9696-5c991ee31d70",
        "colab": {
          "base_uri": "https://localhost:8080/"
        }
      },
      "source": [
        "Manzana_1.peso"
      ],
      "execution_count": 15,
      "outputs": [
        {
          "output_type": "execute_result",
          "data": {
            "text/plain": [
              "100"
            ]
          },
          "metadata": {
            "tags": []
          },
          "execution_count": 15
        }
      ]
    },
    {
      "cell_type": "code",
      "metadata": {
        "id": "TowF5657SH_E",
        "outputId": "0727b696-b1f7-45d8-a1b5-b8ddc4ada634",
        "colab": {
          "base_uri": "https://localhost:8080/"
        }
      },
      "source": [
        "Manzana_1.tipo"
      ],
      "execution_count": 16,
      "outputs": [
        {
          "output_type": "execute_result",
          "data": {
            "text/plain": [
              "1"
            ]
          },
          "metadata": {
            "tags": []
          },
          "execution_count": 16
        }
      ]
    },
    {
      "cell_type": "markdown",
      "metadata": {
        "id": "hQZ8ZJqmUAk-"
      },
      "source": [
        "Clase con metodo:"
      ]
    },
    {
      "cell_type": "code",
      "metadata": {
        "id": "norAi9OIUGF6"
      },
      "source": [
        "class Car:\n",
        "  def __init__(self, engine, color):\n",
        "    self.engine = engine\n",
        "    self.color = color\n",
        "\n",
        "  def describe_car(self):\n",
        "    print(f\"El coche inicializado posee un motor {self.engine} y es {self.color}\")"
      ],
      "execution_count": 17,
      "outputs": []
    },
    {
      "cell_type": "code",
      "metadata": {
        "id": "hmcsgAPlURHw"
      },
      "source": [
        "#INstanciamos\n",
        "car_1 = Car(engine=\"v8\", color=\"azul\")"
      ],
      "execution_count": 18,
      "outputs": []
    },
    {
      "cell_type": "code",
      "metadata": {
        "id": "3WIvK_OXUYot",
        "outputId": "b745fc9f-690b-47b6-d23d-a3dd62ea07f6",
        "colab": {
          "base_uri": "https://localhost:8080/"
        }
      },
      "source": [
        "#Accedemos al metodo\n",
        "car_1.describe_car()"
      ],
      "execution_count": 20,
      "outputs": [
        {
          "output_type": "stream",
          "text": [
            "El coche inicializado posee un motor v8 y es azul\n"
          ],
          "name": "stdout"
        }
      ]
    },
    {
      "cell_type": "code",
      "metadata": {
        "id": "7x7muIEgUffq"
      },
      "source": [
        ""
      ],
      "execution_count": null,
      "outputs": []
    },
    {
      "cell_type": "markdown",
      "metadata": {
        "id": "Ss3ErmmAYAhY"
      },
      "source": [
        "Completando clase manzana"
      ]
    },
    {
      "cell_type": "code",
      "metadata": {
        "id": "AaAjZnLsYE2S"
      },
      "source": [
        "class Apple:\n",
        "  def __init__(self, color, peso, tipo):\n",
        "    self.color = color\n",
        "    self.peso = peso\n",
        "    self.tipo = tipo\n",
        "\n",
        "  def describe_apple(self):\n",
        "    print(f\"La manzana tiene color: {self.color}, peso: {self.peso} y tipo: {self.tipo}\")"
      ],
      "execution_count": 24,
      "outputs": []
    },
    {
      "cell_type": "code",
      "metadata": {
        "id": "-KYLLCKQYnTm"
      },
      "source": [
        "\n",
        "#Instanciando\n",
        "Manzana_3 = Apple('black',100, 1)\n"
      ],
      "execution_count": 25,
      "outputs": []
    },
    {
      "cell_type": "code",
      "metadata": {
        "id": "DGXVHD-yZSFA",
        "outputId": "f4a50336-9c9b-4b19-daff-fd46e8bd9fce",
        "colab": {
          "base_uri": "https://localhost:8080/"
        }
      },
      "source": [
        "Manzana_3.describe_apple()"
      ],
      "execution_count": 27,
      "outputs": [
        {
          "output_type": "stream",
          "text": [
            "La manzana tiene color: black, peso: 100 y tipo: 1\n"
          ],
          "name": "stdout"
        }
      ]
    },
    {
      "cell_type": "code",
      "metadata": {
        "id": "y2MuBF_uZVTs"
      },
      "source": [
        ""
      ],
      "execution_count": null,
      "outputs": []
    }
  ]
}